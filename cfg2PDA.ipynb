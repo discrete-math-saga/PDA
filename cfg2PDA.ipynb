{
 "cells": [
  {
   "cell_type": "markdown",
   "metadata": {},
   "source": [
    "# 文脈自由文法とPDA"
   ]
  },
  {
   "cell_type": "code",
   "execution_count": null,
   "metadata": {},
   "outputs": [],
   "source": [
    "import re\n",
    "import pprint\n",
    "from pda import NPDA\n",
    "from cfg import CFG"
   ]
  },
  {
   "cell_type": "markdown",
   "metadata": {},
   "source": [
    "## 文脈自由文法をPDAへ変換"
   ]
  },
  {
   "cell_type": "code",
   "execution_count": null,
   "metadata": {},
   "outputs": [],
   "source": [
    "P: dict[str, list[list[str]]] = {\n",
    "    'S':[['a'],['b'],['a','S','A'],['b','S','B']],\n",
    "    'A':[['a']],\n",
    "    'B':[['b']]\n",
    "}\n",
    "cfgSample =CFG(P,'S')\n",
    "pda = cfgSample.toPda()\n",
    "print(pda)"
   ]
  },
  {
   "cell_type": "markdown",
   "metadata": {},
   "source": [
    "## PDAを文脈自由文法へ変換"
   ]
  },
  {
   "cell_type": "code",
   "execution_count": null,
   "metadata": {},
   "outputs": [],
   "source": [
    "delta:dict[tuple[str,str,str],list[tuple[str,list[str]]]] = {\n",
    "    ('q_0','a','Z'):[('q_0',['A','Z'])],\n",
    "    ('q_0','a','A'):[('q_0',['A','A'])],\n",
    "    ('q_0','b','A'):[('q_1',[])],\n",
    "    ('q_1','b','A'):[('q_1',[])],\n",
    "    ('q_1','','Z'):[('q_1',[])],\n",
    "}\n",
    "#for f in delta:\n",
    "#    print(str(f)+'->'+str(delta[f]))\n",
    "F=set()\n",
    "npda = NPDA('q_0',delta,F,'Z')\n",
    "cfgSample = npda.toCfg()\n",
    "# pprint.pprint(npda.temporaryP)\n",
    "pprint.pprint(cfgSample.P)"
   ]
  }
 ],
 "metadata": {
  "interpreter": {
   "hash": "5b50574aca822a4663eeb358827631e5cbe081f130521b0066dec6b864ef6f2f"
  },
  "kernelspec": {
   "display_name": "Python 3.9.7 64-bit ('myenv': conda)",
   "language": "python",
   "name": "python3"
  },
  "language_info": {
   "codemirror_mode": {
    "name": "ipython",
    "version": 3
   },
   "file_extension": ".py",
   "mimetype": "text/x-python",
   "name": "python",
   "nbconvert_exporter": "python",
   "pygments_lexer": "ipython3",
   "version": "3.11.6"
  },
  "orig_nbformat": 4
 },
 "nbformat": 4,
 "nbformat_minor": 2
}
