{
 "cells": [
  {
   "cell_type": "markdown",
   "metadata": {},
   "source": [
    "非決定性PDA"
   ]
  },
  {
   "cell_type": "code",
   "execution_count": null,
   "metadata": {},
   "outputs": [],
   "source": [
    "from pdaClass import NPDA"
   ]
  },
  {
   "cell_type": "code",
   "execution_count": null,
   "metadata": {},
   "outputs": [],
   "source": [
    "delta:dict[tuple[str,str,str],list[tuple[str,list[str]]]] = {\n",
    "    ('q_0','a','Z'):[('q_0',['A','Z'])],\n",
    "    ('q_0','a','A'):[('q_0',['A','A']),(('q_1',[]))],\n",
    "    ('q_0','a','B'):[('q_0',['A','B'])],\n",
    "    ('q_0','b','Z'):[('q_0',['B','Z'])],\n",
    "    ('q_0','b','A'):[('q_0',['B','A'])],\n",
    "    ('q_0','b','B'):[('q_0',['B','B']),('q_1',[])],\n",
    "    ('q_0','','Z'):[('q_1',[])],\n",
    "    ('q_1','a','A'):[('q_1',[])],\n",
    "    ('q_1','b','B'):[('q_1',[])],\n",
    "    ('q_1','','Z'):[('q_1',[])],\n",
    "}\n",
    "F={'q_1'}\n",
    "npda = NPDA('q_0',delta,F,'Z')\n",
    "print(npda.latexExp())\n",
    "print()\n",
    "seqList = npda.read('abaaaaba',True)\n",
    "print(len(seqList))\n",
    "for r,m,seq in seqList:\n",
    "    print(m)\n",
    "    for i in range(len(seq)):\n",
    "        print(seq[i])\n",
    "    print('--------------------')"
   ]
  },
  {
   "cell_type": "code",
   "execution_count": null,
   "metadata": {},
   "outputs": [],
   "source": [
    "delta:dict[tuple[str,str,str],list[tuple[str,list[str]]]] = {\n",
    "    ('q_0','a','Z'):[('q_0',['A','Z'])],\n",
    "    ('q_0','a','A'):[('q_0',['A','A'])],\n",
    "    ('q_0','a','B'):[('q_0',['A','B']),(('q_1',[]))],\n",
    "    ('q_0','b','Z'):[('q_0',['B','Z'])],\n",
    "    ('q_0','b','A'):[('q_0',['B','A']),('q_1',[])],\n",
    "    ('q_0','b','B'):[('q_0',['B','B'])],\n",
    "    ('q_0','','Z'):[('q_1',[])],\n",
    "    ('q_1','a','B'):[('q_1',[])],\n",
    "    ('q_1','b','A'):[('q_1',[])],\n",
    "    ('q_1','','Z'):[('q_1',[])],\n",
    "}\n",
    "F={'q_1'}\n",
    "npda = NPDA('q_0',delta,F,'Z')\n",
    "print(npda.latexExp())\n",
    "print()\n",
    "seqList = npda.read('abaabbab',True)\n",
    "print(len(seqList))\n",
    "for r,m,seq in seqList:\n",
    "    print(m)\n",
    "    for i in range(len(seq)):\n",
    "        print(seq[i])\n",
    "    print('--------------------')"
   ]
  },
  {
   "cell_type": "code",
   "execution_count": null,
   "metadata": {
    "tags": []
   },
   "outputs": [],
   "source": [
    "delta:dict[tuple[str,str,str],list[tuple[str,list[str]]]] = {\n",
    "    ('q_0','a','Z'):[('q_0',['A','Z'])],\n",
    "    ('q_0','a','A'):[('q_0',['A','A'])],\n",
    "    ('q_0','b','A'):[('q_1',[])],\n",
    "    ('q_1','b','A'):[('q_1',[])],\n",
    "    ('q_1','','Z'):[('q_2',[])],\n",
    "}\n",
    "#for f in delta:\n",
    "#    print(str(f)+'->'+str(delta[f]))\n",
    "F={'q_2'}\n",
    "npda = NPDA('q_0',delta,F,'Z')\n",
    "print(npda.latexExp())\n",
    "seqList = npda.read('aaabbb',True)\n",
    "print(len(seqList))\n",
    "for r,m,seq in seqList:\n",
    "    print(m)\n",
    "    for i in range(len(seq)):\n",
    "        print(seq[i])\n",
    "    print('--------------------')"
   ]
  },
  {
   "cell_type": "code",
   "execution_count": null,
   "metadata": {},
   "outputs": [],
   "source": []
  },
  {
   "cell_type": "markdown",
   "metadata": {},
   "source": []
  }
 ],
 "metadata": {
  "interpreter": {
   "hash": "2322be9354d0c02ae7a563e15a3b1424506aba364738ddffa4554a9ebf410fcb"
  },
  "kernelspec": {
   "display_name": "Python 3.7.1 64-bit",
   "language": "python",
   "name": "python3"
  },
  "language_info": {
   "codemirror_mode": {
    "name": "ipython",
    "version": 3
   },
   "file_extension": ".py",
   "mimetype": "text/x-python",
   "name": "python",
   "nbconvert_exporter": "python",
   "pygments_lexer": "ipython3",
   "version": "3.9.7"
  },
  "orig_nbformat": 2
 },
 "nbformat": 4,
 "nbformat_minor": 2
}
