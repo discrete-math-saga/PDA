{
 "cells": [
  {
   "cell_type": "markdown",
   "metadata": {},
   "source": [
    "# 決定性PDA"
   ]
  },
  {
   "cell_type": "code",
   "execution_count": null,
   "metadata": {},
   "outputs": [],
   "source": [
    "from pdaClass import DPDA"
   ]
  },
  {
   "cell_type": "code",
   "execution_count": null,
   "metadata": {
    "tags": []
   },
   "outputs": [],
   "source": [
    "# 遷移関数\n",
    "delta:dict[tuple[str,str,str],tuple[str,list[str]]] = {\n",
    "    ('q_0','a','Z'):('q_0',['A','Z']),\n",
    "    ('q_0','a','A'):('q_0',['A','A']),\n",
    "    ('q_0','b','A'):('q_1',[]),\n",
    "    ('q_1','b','A'):('q_1',[]),\n",
    "    ('q_1','','Z'):('q_2',[]),\n",
    "}\n",
    "\n",
    "F={'q_2'}\n",
    "dpda = DPDA('q_0', delta, F, 'Z')\n",
    "print(dpda.latexExp())\n",
    "r,m,seq = dpda.read('aaabbb',True)\n",
    "print(m)\n",
    "for i in range(len(seq)):\n",
    "    print(seq[i])"
   ]
  },
  {
   "cell_type": "code",
   "execution_count": null,
   "metadata": {
    "tags": []
   },
   "outputs": [],
   "source": [
    "# 遷移関数\n",
    "delta:dict[tuple[str,str,str],tuple[str,list[str]]] = {\n",
    "    ('q_0','a','Z'):('q_0',['A','Z']),\n",
    "    ('q_0','b','Z'):('q_0',['B','Z']),\n",
    "    ('q_0','a','A'):('q_0',['A','A']),\n",
    "    ('q_0','b','A'):('q_0',['B','A']),\n",
    "    ('q_0','a','B'):('q_0',['A','B']),\n",
    "    ('q_0','b','B'):('q_0',['B','B']),\n",
    "    ('q_0','c','A'):('q_1',['A']),\n",
    "    ('q_0','c','B'):('q_1',['B']),\n",
    "    ('q_1','a','A'):('q_1',[]),\n",
    "    ('q_1','b','B'):('q_1',[]),\n",
    "    ('q_1','','Z'):('q_2',[]),\n",
    "}\n",
    "#for f in delta:\n",
    "#    print(str(f)+'->'+str(delta[f]))\n",
    "F={'q_2'}\n",
    "dpda = DPDA('q_0',delta,F,'Z')\n",
    "print(dpda.latexExp())\n",
    "print()\n",
    "str0 = 'abaa'\n",
    "str1 = ''.join(list(reversed(str0)))\n",
    "inputStr = str0+'c'+str1\n",
    "r,m,seq = dpda.read(inputStr,True)\n",
    "print(m)\n",
    "for i in range(len(seq)):\n",
    "    print(seq[i])"
   ]
  },
  {
   "cell_type": "code",
   "execution_count": null,
   "metadata": {},
   "outputs": [],
   "source": [
    "# 遷移関数\n",
    "delta:dict[tuple[str,str,str],tuple[str,list[str]]] = {\n",
    "    ('q_0','a','Z'):('q_0',['A','Z']),\n",
    "    ('q_0','b','Z'):('q_0',['B','Z']),\n",
    "    ('q_0','a','A'):('q_0',['A','A']),\n",
    "    ('q_0','b','A'):('q_0',['B','A']),\n",
    "    ('q_0','a','B'):('q_0',['A','B']),\n",
    "    ('q_0','b','B'):('q_0',['B','B']),\n",
    "    ('q_0','c','A'):('q_1',[]),\n",
    "    ('q_0','d','B'):('q_1',[]),\n",
    "    ('q_0','d','A'):('q_2',[]),\n",
    "    ('q_0','c','B'):('q_2',[]),\n",
    "    ('q_1','c','A'):('q_1',[]),\n",
    "    ('q_1','d','B'):('q_1',[]),\n",
    "    ('q_2','c','B'):('q_2',[]),\n",
    "    ('q_2','d','A'):('q_2',[]),\n",
    "    ('q_1','','Z'):('q_3',[]),\n",
    "    ('q_2','','Z'):('q_3',[])\n",
    "}\n",
    "F={'q_3'}\n",
    "dpda = DPDA('q_0',delta,F,'Z')\n",
    "print(dpda.latexExp())\n",
    "str0 = 'abab'\n",
    "str1 = ''.join(list(reversed(str0))).replace('a','c').replace('b','d')\n",
    "inputStr = str0+str1\n",
    "print(inputStr)\n",
    "r,m,seq = dpda.read(inputStr,True)\n",
    "print(m)\n",
    "for i in range(len(seq)):\n",
    "    print(seq[i])"
   ]
  }
 ],
 "metadata": {
  "interpreter": {
   "hash": "2322be9354d0c02ae7a563e15a3b1424506aba364738ddffa4554a9ebf410fcb"
  },
  "kernelspec": {
   "display_name": "Python 3.7.1 64-bit",
   "language": "python",
   "name": "python3"
  },
  "language_info": {
   "codemirror_mode": {
    "name": "ipython",
    "version": 3
   },
   "file_extension": ".py",
   "mimetype": "text/x-python",
   "name": "python",
   "nbconvert_exporter": "python",
   "pygments_lexer": "ipython3",
   "version": "3.9.7"
  },
  "orig_nbformat": 2
 },
 "nbformat": 4,
 "nbformat_minor": 2
}
