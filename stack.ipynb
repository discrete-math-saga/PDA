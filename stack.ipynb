{
 "cells": [
  {
   "cell_type": "code",
   "execution_count": null,
   "metadata": {},
   "outputs": [],
   "source": [
    "class Stack:\n",
    "    \"\"\"\n",
    "    スタックのクラス\n",
    "    \"\"\"\n",
    "    def __init__(self):#コンストラクタ\n",
    "        self.elements = []\n",
    "    def is_empty(self):#要素が無いときTrue\n",
    "        return self.elements == []\n",
    "    def push(self,e):#要素を追加\n",
    "        self.elements.append(e)\n",
    "    def pop(self):#要素を取り出す。要素は削除される\n",
    "        return self.elements.pop()\n",
    "    def peek(self):#先頭の要素を調べる\n",
    "        return self.elements[-1]\n",
    "    def size(self):#要素数を返す\n",
    "        return len(self.elements)\n",
    "    def __str__(self):#文字列化\n",
    "        s = '['\n",
    "        for x in self.elements:\n",
    "            s += str(x)+','\n",
    "        s = s.removesuffix(',')\n",
    "        s += ']'\n",
    "        return s"
   ]
  },
  {
   "cell_type": "code",
   "execution_count": null,
   "metadata": {},
   "outputs": [],
   "source": [
    "myStack = Stack()\n",
    "myStack.push('a')\n",
    "myStack.push('b')\n",
    "myStack.push('b')\n",
    "print(myStack)\n",
    "\n",
    "myStack.pop()\n",
    "myStack.pop()\n",
    "print(myStack)\n"
   ]
  }
 ],
 "metadata": {
  "kernelspec": {
   "display_name": "myenv",
   "language": "python",
   "name": "python3"
  },
  "language_info": {
   "codemirror_mode": {
    "name": "ipython",
    "version": 3
   },
   "file_extension": ".py",
   "mimetype": "text/x-python",
   "name": "python",
   "nbconvert_exporter": "python",
   "pygments_lexer": "ipython3",
   "version": "3.10.8"
  },
  "orig_nbformat": 4,
  "vscode": {
   "interpreter": {
    "hash": "5b50574aca822a4663eeb358827631e5cbe081f130521b0066dec6b864ef6f2f"
   }
  }
 },
 "nbformat": 4,
 "nbformat_minor": 2
}
