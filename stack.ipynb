{
 "cells": [
  {
   "cell_type": "code",
   "execution_count": null,
   "source": [
    "class Stack:\r\n",
    "    def __init__(self):#コンストラクタ\r\n",
    "        self.elements = []\r\n",
    "    def is_empty(self):#要素が無いときTrue\r\n",
    "        return self.elements == []\r\n",
    "    def push(self,e):#要素を追加\r\n",
    "        self.elements.append(e)\r\n",
    "    def pop(self):#要素を取り出す。要素は削除される\r\n",
    "        return self.elements.pop()\r\n",
    "    def peek(self):#先頭の要素を調べる\r\n",
    "        return self.elements[len(self.elements)-1]\r\n",
    "    def size(self):#要素数を返す\r\n",
    "        return len(self.elements)\r\n",
    "    def toString(self):#文字列化\r\n",
    "        s = '['\r\n",
    "        for x in self.elements:\r\n",
    "            s += str(x)+','\r\n",
    "        n = len(s)\r\n",
    "        s = s[0:n-1]\r\n",
    "        s += ']'\r\n",
    "        return s"
   ],
   "outputs": [],
   "metadata": {}
  },
  {
   "cell_type": "code",
   "execution_count": null,
   "source": [
    "myStack = Stack()\n",
    "myStack.push('a')\n",
    "myStack.push('b')\n",
    "myStack.push('b')\n",
    "print(myStack.toString())\n",
    "\n",
    "myStack.pop()\n",
    "myStack.pop()\n",
    "print(myStack.toString())"
   ],
   "outputs": [],
   "metadata": {}
  }
 ],
 "metadata": {
  "orig_nbformat": 4,
  "language_info": {
   "name": "python",
   "version": "3.9.4",
   "mimetype": "text/x-python",
   "codemirror_mode": {
    "name": "ipython",
    "version": 3
   },
   "pygments_lexer": "ipython3",
   "nbconvert_exporter": "python",
   "file_extension": ".py"
  },
  "kernelspec": {
   "name": "python3",
   "display_name": "Python 3.9.4 64-bit ('3.9.4': pyenv)"
  },
  "interpreter": {
   "hash": "8eac0b877443e672c512fc10f9a40a6551a41731384696f22385f08b2b6c8da7"
  }
 },
 "nbformat": 4,
 "nbformat_minor": 2
}