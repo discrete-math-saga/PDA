{
 "cells": [
  {
   "cell_type": "code",
   "execution_count": 1,
   "metadata": {},
   "outputs": [],
   "source": [
    "class Stack:\n",
    "    \"\"\"\n",
    "    スタックのクラス\n",
    "    \"\"\"\n",
    "    def __init__(self):#コンストラクタ\n",
    "        self.elements = []\n",
    "    def is_empty(self):#要素が無いときTrue\n",
    "        return self.elements == []\n",
    "    def push(self,e):#要素を追加\n",
    "        self.elements.append(e)\n",
    "    def pop(self):#要素を取り出す。要素は削除される\n",
    "        return self.elements.pop()\n",
    "    def peek(self):#先頭の要素を調べる\n",
    "        return self.elements[len(self.elements)-1]\n",
    "    def size(self):#要素数を返す\n",
    "        return len(self.elements)\n",
    "    def __str__(self):#文字列化\n",
    "        s = '['\n",
    "        for x in self.elements:\n",
    "            s += str(x)+','\n",
    "        s = s.removesuffix(',')\n",
    "        s += ']'\n",
    "        return s"
   ]
  },
  {
   "cell_type": "code",
   "execution_count": 3,
   "metadata": {},
   "outputs": [
    {
     "name": "stdout",
     "output_type": "stream",
     "text": [
      "[a,b,b]\n",
      "[a]\n"
     ]
    }
   ],
   "source": [
    "myStack = Stack()\n",
    "myStack.push('a')\n",
    "myStack.push('b')\n",
    "myStack.push('b')\n",
    "print(myStack)\n",
    "\n",
    "myStack.pop()\n",
    "myStack.pop()\n",
    "print(myStack)\n"
   ]
  }
 ],
 "metadata": {
  "interpreter": {
   "hash": "8eac0b877443e672c512fc10f9a40a6551a41731384696f22385f08b2b6c8da7"
  },
  "kernelspec": {
   "display_name": "Python 3.9.4 64-bit ('3.9.4': pyenv)",
   "name": "python3"
  },
  "language_info": {
   "codemirror_mode": {
    "name": "ipython",
    "version": 3
   },
   "file_extension": ".py",
   "mimetype": "text/x-python",
   "name": "python",
   "nbconvert_exporter": "python",
   "pygments_lexer": "ipython3",
   "version": "3.9.7"
  },
  "orig_nbformat": 4
 },
 "nbformat": 4,
 "nbformat_minor": 2
}
