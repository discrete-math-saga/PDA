{
 "cells": [
  {
   "cell_type": "code",
   "execution_count": 4,
   "metadata": {},
   "outputs": [],
   "source": [
    "from collections import deque\n",
    "from typing import TypeVar, Generic\n",
    "T = TypeVar('T')"
   ]
  },
  {
   "cell_type": "code",
   "execution_count": 5,
   "metadata": {},
   "outputs": [],
   "source": [
    "class Stack(Generic[T]):\n",
    "    \"\"\"\n",
    "    スタックのクラス\n",
    "    \"\"\"\n",
    "    def __init__(self):#コンストラクタ\n",
    "        self.elements:deque[T] = deque()\n",
    "    def is_empty(self) -> bool:#要素が無いときTrue\n",
    "        return len(self.elements) == 0\n",
    "    def push(self,e:T) -> None:#要素を追加\n",
    "        self.elements.append(e)\n",
    "    def pop(self) -> T:#要素を取り出す。要素は削除される\n",
    "        return self.elements.pop()\n",
    "    def peek(self) -> T:#先頭の要素を調べる\n",
    "        return self.elements[-1]\n",
    "    def size(self) -> int:#要素数を返す\n",
    "        return len(self.elements)\n",
    "    def __str__(self) -> str:#文字列化\n",
    "        s = '['\n",
    "        for x in self.elements:\n",
    "            s += str(x)+','\n",
    "        s: str = s.removesuffix(',')\n",
    "        s += ']'\n",
    "        return s"
   ]
  },
  {
   "cell_type": "code",
   "execution_count": null,
   "metadata": {},
   "outputs": [],
   "source": [
    "def palindrome(inputStr:str) -> bool:\n",
    "    \"\"\"\n",
    "    return true if inputStr is palindrome\n",
    "    recursive method\n",
    "    \"\"\"\n",
    "    if len(inputStr) <= 1:\n",
    "        return True\n",
    "    if inputStr[0] != inputStr[-1]:\n",
    "        return False\n",
    "    return palindrome(inputStr[1:-1])"
   ]
  },
  {
   "cell_type": "code",
   "execution_count": 1,
   "metadata": {},
   "outputs": [],
   "source": [
    "def palindrome2(inputStr:str) -> bool:\n",
    "    \"\"\"\n",
    "    return true if inputStr is palindrome\n",
    "    non-recursive method\n",
    "    \"\"\"\n",
    "    myStack:Stack[str] = Stack()\n",
    "    n: int = len(inputStr)\n",
    "    m: int = n//2\n",
    "    for i in range(m):#前半をスタックに積む\n",
    "        myStack.push(inputStr[i])\n",
    "    if n % 2 !=0:#入力の長さが奇数の場合\n",
    "        m += 1\n",
    "    for j in range(m,n):#後半と照合\n",
    "        c: str = myStack.pop()\n",
    "        if c != inputStr[j]:\n",
    "            return False\n",
    "    return True"
   ]
  },
  {
   "cell_type": "code",
   "execution_count": null,
   "metadata": {},
   "outputs": [],
   "source": [
    "myStack:Stack[str] = Stack()\n",
    "myStack.push('a')\n",
    "myStack.push('b')\n",
    "myStack.push('b')\n",
    "print(myStack)\n",
    "print(myStack.peek())\n",
    "\n",
    "myStack.pop()\n",
    "myStack.pop()\n",
    "print(myStack)\n"
   ]
  },
  {
   "cell_type": "code",
   "execution_count": 9,
   "metadata": {},
   "outputs": [
    {
     "data": {
      "text/plain": [
       "True"
      ]
     },
     "execution_count": 9,
     "metadata": {},
     "output_type": "execute_result"
    }
   ],
   "source": [
    "palindrome2('100001')"
   ]
  }
 ],
 "metadata": {
  "kernelspec": {
   "display_name": "myenv",
   "language": "python",
   "name": "python3"
  },
  "language_info": {
   "codemirror_mode": {
    "name": "ipython",
    "version": 3
   },
   "file_extension": ".py",
   "mimetype": "text/x-python",
   "name": "python",
   "nbconvert_exporter": "python",
   "pygments_lexer": "ipython3",
   "version": "3.11.6"
  },
  "orig_nbformat": 4,
  "vscode": {
   "interpreter": {
    "hash": "5b50574aca822a4663eeb358827631e5cbe081f130521b0066dec6b864ef6f2f"
   }
  }
 },
 "nbformat": 4,
 "nbformat_minor": 2
}
